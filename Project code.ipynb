{
 "cells": [
  {
   "cell_type": "code",
   "execution_count": 3,
   "metadata": {},
   "outputs": [
    {
     "name": "stdout",
     "output_type": "stream",
     "text": [
      "(200, 2)\n",
      "(200, 2)\n"
     ]
    }
   ],
   "source": [
    "import numpy as np\n",
    "from matplotlib import pyplot as plt\n",
    "%matplotlib inline\n",
    "mean_01 = np.array([3.0,4.0])\n",
    "\n",
    "#Lemons are sour, avg sweetness will low, they have some low value for color\n",
    "# Red values is higher, Yellow Lower\n",
    "# Sweetness is higher, Sourness Lower\n",
    "mean_01 = np.array([3.0,4.0])\n",
    "\n",
    "#2 X 2 identity matrix\n",
    "cov_01 = np.array([[1.0,-0.5],[-0.5,1.0]])\n",
    "\n",
    "mean_02 = np.array([0.0,0.0])\n",
    "\n",
    "cov_02 = np.array([[1.0,.5],[0.5,0.6]])\n",
    "\n",
    "dist_01 = np.random.multivariate_normal(mean_01,cov_01,200)\n",
    "dist_02 = np.random.multivariate_normal(mean_02,cov_02,200)\n",
    "\n",
    "print (dist_01.shape)\n",
    "print (dist_02.shape)\n",
    "# print dist_01"
   ]
  },
  {
   "cell_type": "code",
   "execution_count": 4,
   "metadata": {},
   "outputs": [
    {
     "data": {
      "image/png": "[encoded data removed]",
      "text/plain": [
       "<Figure size 432x288 with 1 Axes>"
      ]
     },
     "metadata": {},
     "output_type": "display_data"
    }
   ],
   "source": [
    "# Try to make a scatter plot of these points\n",
    "plt.figure(0)\n",
    "\n",
    "for x in range(dist_01.shape[0]):\n",
    "    plt.scatter(dist_01[x,0],dist_01[x,1],color='red')\n",
    "    plt.scatter(dist_02[x,0],dist_02[x,1],color='yellow')\n",
    "   \n",
    " plt.show()"
   ]
  },
  {
   "cell_type": "code",
   "execution_count": 5,
   "metadata": {},
   "outputs": [],
   "source": [
    "# Training Data Preparation\n",
    "\n",
    "# 400 Samples - 200 Apples, 200 for Lemons\n",
    "\n",
    "labels = np.zeros((400,1))\n",
    "labels[200:] = 1.0\n",
    "\n",
    "X_data = np.zeros((400,2))\n",
    "X_data[:200,:] = dist_01\n",
    "X_data[200: ,:] = dist_02\n",
    "\n",
    "# print X_data\n",
    "# print labels"
   ]
  },
  {
   "cell_type": "code",
   "execution_count": 7,
   "metadata": {},
   "outputs": [
    {
     "name": "stdout",
     "output_type": "stream",
     "text": [
      "1.4142135623730951\n"
     ]
    }
   ],
   "source": [
    "#Dist of the query_point to all other points in the space ( O(N)) time for every point + sorting \n",
    "# You can the complexity O(Q.N)\n",
    "\n",
    "#Euclidean Distance \n",
    "def dist(x1,x2):\n",
    "    return np.sqrt(((x1-x2)**2).sum())\n",
    "\n",
    "x1 = np.array([0.0,0.0])\n",
    "x2 = np.array([1.0,1.0])\n",
    "\n",
    "print (dist(x1,x2))"
   ]
  },
  {
   "cell_type": "code",
   "execution_count": 17,
   "metadata": {},
   "outputs": [
    {
     "name": "stdout",
     "output_type": "stream",
     "text": [
      "0.0\n"
     ]
    }
   ],
   "source": [
    "def knn(X_train,query_point,y_train,k=5):\n",
    "    vals = []\n",
    "    \n",
    "    for ix in range(X_train.shape[0]):\n",
    "        v = [ dist(query_point,X_train[ix,:]), y_train[ix]]\n",
    "        vals.append(v)\n",
    "    # vals is a list containing distances and their labels\n",
    "    updated_vals = sorted(vals)\n",
    "    # Lets us pick up top K values\n",
    "    pred_arr = np.asarray(updated_vals[:k])\n",
    "    pred_arr = np.unique(pred_arr[:,1],return_counts = True)\n",
    "    #Largest Occurence \n",
    "    index = pred_arr[1].argmax() #Index of largest freq  \n",
    "    return pred_arr[0][index]\n",
    "\n",
    "q = np.array([0.0,4.0])\n",
    "\n",
    "predicted_label  = knn(X_data,q,labels)\n",
    "print (predicted_label)"
   ]
  },
  {
   "cell_type": "code",
   "execution_count": 15,
   "metadata": {},
   "outputs": [],
   "source": [
    "import numpy as np\n",
    "import pandas as pd\n",
    "from matplotlib import pyplot as plt\n",
    "%matplotlib inline"
   ]
  },
  {
   "cell_type": "code",
   "execution_count": 16,
   "metadata": {},
   "outputs": [
    {
     "name": "stdout",
     "output_type": "stream",
     "text": [
      "(42000, 785)\n",
      "(42000, 785)\n"
     ]
    }
   ],
   "source": [
    "ds = pd.read_csv('./train.csv')\n",
    "print (ds.shape)\n",
    "\n",
    "data = ds.values\n",
    "print (data.shape)"
   ]
  },
  {
   "cell_type": "code",
   "execution_count": 38,
   "metadata": {},
   "outputs": [
    {
     "name": "stdout",
     "output_type": "stream",
     "text": [
      "(42000,) (42000, 784)\n",
      "1\n"
     ]
    },
    {
     "data": {
      "image/png": "[encoded data removed]",
      "text/plain": [
       "<Figure size 432x288 with 1 Axes>"
      ]
     },
     "metadata": {},
     "output_type": "display_data"
    }
   ],
   "source": [
    "y_train = data[:, 0]\n",
    "X_train = data[:, 1:]\n",
    "\n",
    "# X_train = (X_train - X_train.mean(axis=0))/(X_train.std(axis=0) + 1e-03)\n",
    "\n",
    "print (y_train.shape, X_train.shape)\n",
    "\n",
    "plt.figure(0)\n",
    "idx = 41467\n",
    "print(y_train[idx])\n",
    "plt.imshow(X_train[idx].reshape((28, 28)), cmap='gray')\n",
    "plt.show()"
   ]
  },
  {
   "cell_type": "code",
   "execution_count": 39,
   "metadata": {},
   "outputs": [],
   "source": [
    "def dist(x1, x2):\n",
    "    return np.sqrt(((x1 - x2)**2).sum())\n",
    "\n",
    "\n",
    "def knn(X_train, x, y_train, k=5):\n",
    "    vals = []\n",
    "    \n",
    "    for ix in range(X_train.shape[0]):\n",
    "        v = [dist(x, X_train[ix, :]), y_train[ix]]\n",
    "        vals.append(v)\n",
    "    \n",
    "    updated_vals = sorted(vals, key=lambda x: x[0])\n",
    "    pred_arr = np.asarray(updated_vals[:k])\n",
    "    pred_arr = np.unique(pred_arr[:, 1], return_counts=True)\n",
    "    pred = pred_arr[1].argmax()\n",
    "    # return pred_arr[0][pred]\n",
    "    return pred_arr, pred_arr[0][pred]"
   ]
  },
  {
   "cell_type": "code",
   "execution_count": 42,
   "metadata": {},
   "outputs": [
    {
     "name": "stdout",
     "output_type": "stream",
     "text": [
      "((array([1.]), array([7])), 1.0)\n",
      "1\n"
     ]
    },
    {
     "data": {
      "image/png": "[encoded data removed]",
      "text/plain": [
       "<Figure size 432x288 with 1 Axes>"
      ]
     },
     "metadata": {},
     "output_type": "display_data"
    }
   ],
   "source": [
    "#idq = int(np.random.random() * X_train.shape[0])\n",
    "\n",
    "q = X_train[idq]\n",
    "\n",
    "res = knn(X_train[:10000], q, y_train[:10000], k=7)\n",
    "print (res)\n",
    "print (y_train[idq])\n",
    "\n",
    "plt.figure(0)\n",
    "plt.imshow(q.reshape((28, 28)), cmap='gray')\n",
    "plt.show()"
   ]
  },
  {
   "cell_type": "code",
   "execution_count": null,
   "metadata": {},
   "outputs": [],
   "source": []
  }
 ],
 "metadata": {
  "kernelspec": {
   "display_name": "Python 3",
   "language": "python",
   "name": "python3"
  },
  "language_info": {
   "codemirror_mode": {
    "name": "ipython",
    "version": 3
   },
   "file_extension": ".py",
   "mimetype": "text/x-python",
   "name": "python",
   "nbconvert_exporter": "python",
   "pygments_lexer": "ipython3",
   "version": "3.6.5"
  }
 },
 "nbformat": 4,
 "nbformat_minor": 2
}
